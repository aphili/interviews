{
 "cells": [
  {
   "cell_type": "markdown",
   "metadata": {},
   "source": [
    "### A. Les données"
   ]
  },
  {
   "cell_type": "markdown",
   "metadata": {},
   "source": [
    "Les jeux de données se trouvent dans **les feuilles cachées du spreadsheet** qui vous a été envoyé. \n",
    "\n",
    "Vous  y retrouverez les deux extracts suivant : \n",
    "\n",
    "L'extract de la table `bookings`, contenant les réservations de plusieurs restaurant, composé de : \n",
    "\n",
    "- **id** : identifiant de la réservation\n",
    "\n",
    "- **nb_guests** : le nombre de couverts\n",
    "\n",
    "- **day** : le jour de la réservation (ou date de venue du client)\n",
    "\n",
    "- **created_at** : le jour de la prise de réservation\n",
    "\n",
    "- **status** : l'état actuel de la réservation\n",
    "\n",
    "- **restaurant_id** : l'identifiant du restaurant\n",
    "\n",
    "L'extract de la table `group_restaurant`, permettant de faire la relation entre un groupe et ses restaurants, composé de : \n",
    "\n",
    "- **id** : identifiant de la relation entre un groupe et son restaurant\n",
    "\n",
    "- **group_id** : identifiant du groupe\n",
    "\n",
    "- **restaurant_id** : identifiant d'un restaurant\n",
    "\n",
    "**NB** : Si vous avez des questions, n'hésitez pas à m'envoyer un mail : [andrew@zenchef.com](andrew@zenchef.com)"
   ]
  },
  {
   "cell_type": "markdown",
   "metadata": {},
   "source": [
    "### B. Partie SQL"
   ]
  },
  {
   "cell_type": "markdown",
   "metadata": {},
   "source": [
    "Dans cette première partie, écrivez les requêtes SQL permettant de répondre aux demandes ci-dessous. *Attention : Les requêtes seront exécutées lors de la correction*."
   ]
  },
  {
   "cell_type": "markdown",
   "metadata": {},
   "source": [
    "1. Récupérez le nombre de réservations attendues **par mois entre Janvier et Mai 2019** par le restaurant **287722**."
   ]
  },
  {
   "cell_type": "code",
   "execution_count": null,
   "metadata": {},
   "outputs": [],
   "source": []
  },
  {
   "cell_type": "markdown",
   "metadata": {},
   "source": [
    "2. Identifiez **les mois** où le nombre de couverts **a dépassé 500** pour le restaurant 287722, en excluant les réservations avec un status : \n",
    "    - non confirmées (`waiting`)\n",
    "    - refusées (`refused`)\n",
    "    - annulées (`canceled`)\n",
    "    - no show (`no_shown`)"
   ]
  },
  {
   "cell_type": "code",
   "execution_count": null,
   "metadata": {},
   "outputs": [],
   "source": []
  },
  {
   "cell_type": "markdown",
   "metadata": {},
   "source": [
    "3. Identifiez **le mois** où le restaurant 287722 a reçu **le plus de couverts**."
   ]
  },
  {
   "cell_type": "code",
   "execution_count": null,
   "metadata": {},
   "outputs": [],
   "source": []
  },
  {
   "cell_type": "markdown",
   "metadata": {},
   "source": [
    "4. En faisant **une jointure** sur la table `group_restaurant`, récupérez **le temps moyen en jour**, entre **la date de prise de réservation** et **date de venue**, par restaurant, pour le groupe 446."
   ]
  },
  {
   "cell_type": "code",
   "execution_count": null,
   "metadata": {},
   "outputs": [],
   "source": []
  },
  {
   "cell_type": "markdown",
   "metadata": {},
   "source": [
    "5. Récupérez le **nombre de réservations attendues par jour** et **par restaurant du groupe 446** entre Janvier et Mai 2019. Les jours où un restaurant **n'a pas reçu de réservations** devront être **signalés avec un 0**. *Nous attendons un tableau avec une colonne comprenant tous les jours entre Janvier et Août 2019*\n",
    "\n",
    "    *Si la requête est trop compliquée, vous pouvez expliquer votre méthode.*"
   ]
  },
  {
   "cell_type": "code",
   "execution_count": null,
   "metadata": {},
   "outputs": [],
   "source": []
  },
  {
   "cell_type": "markdown",
   "metadata": {},
   "source": [
    "### B. Partie Pandas"
   ]
  },
  {
   "cell_type": "markdown",
   "metadata": {},
   "source": [
    "Dans cette partie les questions sont les mêmes que dans la précédente, seulement cette fois-ci écrivez le code permettant de répondre aux demandes en **python**."
   ]
  },
  {
   "cell_type": "code",
   "execution_count": 1,
   "metadata": {},
   "outputs": [],
   "source": [
    "import datetime \n",
    "import pandas as pd\n",
    "import numpy as np"
   ]
  },
  {
   "cell_type": "markdown",
   "metadata": {},
   "source": [
    "1. Récupérez le nombre de réservations attendues **par mois entre Janvier et Mai 2019** par le restaurant **287722**."
   ]
  },
  {
   "cell_type": "code",
   "execution_count": null,
   "metadata": {},
   "outputs": [],
   "source": []
  },
  {
   "cell_type": "markdown",
   "metadata": {},
   "source": [
    "2. Identifiez **les mois** où le nombre de couverts **a dépassé 500** en excluant les réservations avec un status, pour le restaurant 287722.\n",
    "    - non confirmées (`waiting`)\n",
    "    - refusées (`refused`)\n",
    "    - annulées (`canceled`)\n",
    "    - no show (`no_shown`)"
   ]
  },
  {
   "cell_type": "code",
   "execution_count": null,
   "metadata": {},
   "outputs": [],
   "source": []
  },
  {
   "cell_type": "markdown",
   "metadata": {},
   "source": [
    "3. Identifiez **le mois** où le restaurant 287722 a reçu **le plus de couverts**."
   ]
  },
  {
   "cell_type": "code",
   "execution_count": null,
   "metadata": {},
   "outputs": [],
   "source": []
  },
  {
   "cell_type": "markdown",
   "metadata": {},
   "source": [
    "4. En faisant **un merge** sur la table `group_restaurant`, récupérez **le temps moyen en jour**, entre **la date de prise de réservation** et **date de venue**, par restaurant, pour le groupe 446. "
   ]
  },
  {
   "cell_type": "code",
   "execution_count": null,
   "metadata": {},
   "outputs": [],
   "source": []
  },
  {
   "cell_type": "markdown",
   "metadata": {},
   "source": [
    "5. Récupérez le **nombre de réservations par jour** et **par restaurant du groupe 446**. Les jours où un restaurant **n'a pas reçu de réservations** devront être **signalés avec un 0**.  *Nous attendons un tableau avec une colonne comprenant tous les jours entre Janvier et Août 2019*\n",
    "\n",
    "    *Si le code est trop compliqué, vous pouvez expliquer votre méthode.*"
   ]
  },
  {
   "cell_type": "code",
   "execution_count": null,
   "metadata": {},
   "outputs": [],
   "source": []
  }
 ],
 "metadata": {
  "kernelspec": {
   "display_name": "Python 3",
   "language": "python",
   "name": "python3"
  },
  "language_info": {
   "codemirror_mode": {
    "name": "ipython",
    "version": 3
   },
   "file_extension": ".py",
   "mimetype": "text/x-python",
   "name": "python",
   "nbconvert_exporter": "python",
   "pygments_lexer": "ipython3",
   "version": "3.8.1"
  }
 },
 "nbformat": 4,
 "nbformat_minor": 2
}
